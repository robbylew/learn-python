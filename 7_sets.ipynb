{
 "cells": [
  {
   "cell_type": "markdown",
   "metadata": {},
   "source": [
    "# Sets\n",
    "\n",
    "A Set is a unordered data collection that contains un-indexed distinct elements.\n"
   ]
  },
  {
   "cell_type": "markdown",
   "metadata": {},
   "source": [
    "### Creating a Set\n",
    "\n",
    "We can use the `set()` built-in function or use curly brackets `{}`"
   ]
  },
  {
   "cell_type": "code",
   "execution_count": null,
   "metadata": {},
   "outputs": [],
   "source": [
    "st = set()\n",
    "st2 = {'item1', 'item2', 'item3', 'item4'}"
   ]
  },
  {
   "cell_type": "markdown",
   "metadata": {},
   "source": [
    "### Set Methods"
   ]
  },
  {
   "cell_type": "markdown",
   "metadata": {},
   "source": [
    "| Method | Shortcut | Description |\n",
    "| --- | :-: | --- |\n",
    "| <a href=\"https://www.w3schools.com/python/ref_set_add.asp\">`add()`</a> | | Adds an element to the set |\n",
    "| <a href=\"https://www.w3schools.com/python/ref_set_clear.asp\">`clear()`</a> | | Removes all the elements from the set |\n",
    "| <a href=\"https://www.w3schools.com/python/ref_set_copy.asp\">`copy()`</a> | | Returns a copy of the set |\n",
    "| <a href=\"https://www.w3schools.com/python/ref_set_difference.asp\">`difference()`</a> | `-` | Returns a set containing the difference between two or more sets |\n",
    "| <a href=\"https://www.w3schools.com/python/ref_set_difference_update.asp\">`difference_update()`</a> | `-=` | Removes the items in this set that are also included in another, specified set |\n",
    "| <a href=\"https://www.w3schools.com/python/ref_set_discard.asp\">`discard()`</a> | | Remove the specified item |\n",
    "| <a href=\"https://www.w3schools.com/python/ref_set_intersection.asp\">`intersection()`</a> | `&` | Returns a set, that is the intersection of two other sets | \n",
    "| <a href=\"https://www.w3schools.com/python/ref_set_intersection_update.asp\">`intersection_update()`</a> | `&=` | Removes the items in this set that are not present in other, specified set(s) | \n",
    "| <a href=\"https://www.w3schools.com/python/ref_set_isdisjoint.asp\">`isdisjoint()`</a> | | Returns whether two sets have an intersection or not | \n",
    "| <a href=\"https://www.w3schools.com/python/ref_set_issubset.asp\">`issubset()`</a> | `<=` | Returns whether another set contains this set or not | \n",
    "| | `<` | Returns whether all items in this set is present in other, specified set(s) | \n",
    "| <a href=\"https://www.w3schools.com/python/ref_set_issuperset.asp\">`issuperset()`</a> | `>=` | Returns whether this set contains another set or not |\n",
    "| | `>` | Returns whether all items in other, specified set(s) is present in this set | \n",
    "| <a href=\"https://www.w3schools.com/python/ref_set_pop.asp\">`pop()`</a> | | Removes an element from the set |\n",
    "| <a href=\"https://www.w3schools.com/python/ref_set_remove.asp\">`remove()`</a> | | Removes the specified element |\n",
    "| <a href=\"https://www.w3schools.com/python/ref_set_symmetric_difference.asp\">`symmetric_difference()`</a> | `^` | Returns a set with the symmetric differences of two sets |\n",
    "| <a href=\"https://www.w3schools.com/python/ref_set_symmetric_difference_update.asp\">`symmetric_difference_update()`</a> | `^=` | Inserts the symmetric differences from this set and another |\n",
    "| <a href=\"https://www.w3schools.com/python/ref_set_union.asp\">`union()`</a> | `\\|` | Returns a set containing the union of sets |\n",
    "| <a href=\"https://www.w3schools.com/python/ref_set_update.asp\">`update()`</a> | `\\|=` | Updates the set with the union of this set and others |\n"
   ]
  }
 ],
 "metadata": {
  "kernelspec": {
   "display_name": "Python 3",
   "language": "python",
   "name": "python3"
  },
  "language_info": {
   "name": "python",
   "version": "3.12.4"
  }
 },
 "nbformat": 4,
 "nbformat_minor": 2
}
