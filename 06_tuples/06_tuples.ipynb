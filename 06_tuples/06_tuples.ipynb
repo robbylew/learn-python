{
 "cells": [
  {
   "cell_type": "markdown",
   "metadata": {},
   "source": [
    "<div align=\"center\">\n",
    "  <h1> Python by Topic - Tuples</h1>\n",
    "  <a class=\"header-badge\" target=\"_blank\" href=\"https://www.linkedin.com/in/robbylew/\">\n",
    "    <img src=\"https://img.shields.io/badge/LinkedIn-robbylew-blue?style=flat-square&logo=linkedin\">\n",
    "  </a>\n",
    "\n",
    "  <a class=\"header-badge\" target=\"_blank\" href=\"https://twitter.com/roberthedev\">\n",
    "    <img src=\"https://img.shields.io/badge/Twitter-roberthedev-blue?style=flat-square&logo=X\">\n",
    "  </a>\n",
    "\n",
    "<a class=\"header-badge\" target=\"_blank\" href=\"https://robertlewis.dev\">\n",
    "  <img src=\"https://img.shields.io/badge/Website-robertlewis.dev-blue?style=flat-square&logo=github\">\n",
    "</a>\n",
    "\n",
    "<sub>Author:\n",
    "<a href=\"https://www.linkedin.com/in/robbylew/\" target=\"_blank\">Robert Lewis</a><br>\n",
    "<small> First Edition: August, 2024</small>\n",
    "</sub>\n",
    "</div>\n",
    "\n",
    "# Table of Contents\n",
    "\n",
    "1. [Creating a Tuple](#creating-a-tuple)\n",
    "\n",
    "    - [Using the built-in `tuple()` function](#using-the-built-in-tuple-function)\n",
    "\n",
    "    - [Using Round Brackets `()`](#using-round-brackets-)\n",
    "\n",
    "2. [Tuple Length](#tuple-length)\n",
    "\n",
    "3. [Joining Tuples](#joining-tuples)\n",
    "\n",
    "4. [Deleting Tuples](#deleting-tuples)\n",
    "\n",
    "5. [Indexing and Splitting Tuples](#indexing-and-splitting-tuples)\n",
    "\n",
    "6. [Changing Tuples to Lists](#changing-tuples-to-lists)\n",
    "\n",
    "7. [Additional Tuple Methods](#additional-tuple-methods)\n"
   ]
  },
  {
   "cell_type": "markdown",
   "metadata": {},
   "source": [
    "# Tuples\n",
    "\n",
    "A tuple is an immutable ordered data structure. Once a tuple is created, it cannot be edited."
   ]
  },
  {
   "cell_type": "markdown",
   "metadata": {
    "vscode": {
     "languageId": "plaintext"
    }
   },
   "source": [
    "## Creating a Tuple"
   ]
  },
  {
   "cell_type": "markdown",
   "metadata": {},
   "source": [
    "### Using the built-in `tuple()` function"
   ]
  },
  {
   "cell_type": "code",
   "execution_count": 1,
   "metadata": {},
   "outputs": [],
   "source": [
    "empty_tuple = tuple()"
   ]
  },
  {
   "cell_type": "markdown",
   "metadata": {},
   "source": [
    "### Or using round brackets, `()`"
   ]
  },
  {
   "cell_type": "code",
   "execution_count": 2,
   "metadata": {},
   "outputs": [],
   "source": [
    "empty_tuple = ()"
   ]
  },
  {
   "cell_type": "markdown",
   "metadata": {},
   "source": [
    "## Tuple Length"
   ]
  },
  {
   "cell_type": "markdown",
   "metadata": {},
   "source": [
    "As with lists, we can use `len()` to get a tuples length."
   ]
  },
  {
   "cell_type": "code",
   "execution_count": 3,
   "metadata": {},
   "outputs": [
    {
     "name": "stdout",
     "output_type": "stream",
     "text": [
      "3\n"
     ]
    }
   ],
   "source": [
    "fruit_tuple = ('Apples', 'Bananas', 'Oranges')\n",
    "print(len(fruit_tuple))"
   ]
  },
  {
   "cell_type": "markdown",
   "metadata": {},
   "source": [
    "## Joining Tuples\n",
    "\n",
    "We can join two or more tuples using + operator"
   ]
  },
  {
   "cell_type": "code",
   "execution_count": 4,
   "metadata": {},
   "outputs": [
    {
     "name": "stdout",
     "output_type": "stream",
     "text": [
      "('item1', 'item2', 'item3', 'item4', 'item5', 'item6')\n"
     ]
    }
   ],
   "source": [
    "# syntax\n",
    "tpl1 = ('item1', 'item2', 'item3')\n",
    "tpl2 = ('item4', 'item5','item6')\n",
    "tpl3 = tpl1 + tpl2\n",
    "print(tpl3)"
   ]
  },
  {
   "cell_type": "markdown",
   "metadata": {},
   "source": [
    "### Deleting Tuples\n",
    "\n",
    "Although you can't delete specific variabls, you can delete the entire tuple"
   ]
  },
  {
   "cell_type": "code",
   "execution_count": 5,
   "metadata": {},
   "outputs": [],
   "source": [
    "# syntax\n",
    "tpl1 = ('item1', 'item2', 'item3')\n",
    "del tpl1"
   ]
  },
  {
   "cell_type": "markdown",
   "metadata": {},
   "source": [
    "### Indexing and Splitting Tuples\n",
    "\n",
    "Tuples follow the same structure as with Lists when it comes to positive and negative indexing. Same with Slicing."
   ]
  },
  {
   "cell_type": "markdown",
   "metadata": {},
   "source": [
    "### Changing Tuples to Lists\n",
    "\n",
    "You can change a Tuple to a List using the `list()` function"
   ]
  },
  {
   "cell_type": "code",
   "execution_count": 6,
   "metadata": {},
   "outputs": [
    {
     "name": "stdout",
     "output_type": "stream",
     "text": [
      "['item0', 'item2', 'item3', 'item4']\n"
     ]
    }
   ],
   "source": [
    "random_tuple = ('item1', 'item2', 'item3','item4')\n",
    "random_list = list(random_tuple)\n",
    "random_list[0] = 'item0'\n",
    "print(random_list)"
   ]
  },
  {
   "cell_type": "markdown",
   "metadata": {},
   "source": [
    "## Additional Tuple Methods\n",
    "\n",
    "| Method | Description |\n",
    "| :-: | :-: |\n",
    "| <a href=\"https://www.w3schools.com/python/ref_tuple_count.asp\"> `count()` </a> | Returns the number of times a specified value occurs in a tuple |\n",
    "| <a href=\"https://www.w3schools.com/python/ref_tuple_index.asp\"> `index()` </a> | Searches the tuple for a specified value and returns the position of where it was found |\n"
   ]
  }
 ],
 "metadata": {
  "kernelspec": {
   "display_name": "Python 3",
   "language": "python",
   "name": "python3"
  },
  "language_info": {
   "codemirror_mode": {
    "name": "ipython",
    "version": 3
   },
   "file_extension": ".py",
   "mimetype": "text/x-python",
   "name": "python",
   "nbconvert_exporter": "python",
   "pygments_lexer": "ipython3",
   "version": "3.12.4"
  }
 },
 "nbformat": 4,
 "nbformat_minor": 2
}
