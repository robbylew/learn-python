{
 "cells": [
  {
   "cell_type": "markdown",
   "metadata": {},
   "source": [
    "# Variables"
   ]
  },
  {
   "cell_type": "markdown",
   "metadata": {},
   "source": [
    "Variables store data in a computer memory. Mnemonic variables are recommended to use in many programming languages. You should get used to using mnemonic variables. A mnemonic variable is a variable name that can be easily remembered and associated. \n",
    "\n",
    "Python Variable Name Rules:\n",
    "+ A variable must start with a letter or the underscore character\n",
    "+ A variable name cannot start with a number\n",
    "+ A variable can only contain alpha-numeric characters and underscores (A-z, 0-9, and _)\n",
    "+ Variable names are case-sensitive (firstname, Firstname, FirstName, FIRSTNAME)"
   ]
  },
  {
   "cell_type": "code",
   "execution_count": null,
   "metadata": {},
   "outputs": [],
   "source": [
    "# Variables in Python\n",
    "first_name = 'Robert'\n",
    "last_name = 'Lewis'\n",
    "country = 'United States of America'\n",
    "city = 'Los Angeles'\n",
    "age = 250\n",
    "is_married = False\n",
    "skills = ['Python', 'R']\n",
    "person_info = {\n",
    "   'firstname':'Robert',\n",
    "   'lastname':'Lewis',\n",
    "   'country':'United States of America',\n",
    "   'city':'Los Angeles'\n",
    "   }"
   ]
  },
  {
   "cell_type": "markdown",
   "metadata": {},
   "source": [
    "### Declaring Multiple Variables in a Line\n",
    "\n",
    "Multiple variables can also be declared in one line:"
   ]
  },
  {
   "cell_type": "code",
   "execution_count": 1,
   "metadata": {},
   "outputs": [
    {
     "name": "stdout",
     "output_type": "stream",
     "text": [
      "Robert Lewis United States of America 250 False\n",
      "First name: Robert\n",
      "Last name:  Lewis\n",
      "Country:  United States of America\n",
      "Age:  250\n",
      "Married:  False\n"
     ]
    }
   ],
   "source": [
    "first_name, last_name, country, age, is_married = 'Robert', 'Lewis', 'United States of America', 250, False\n",
    "\n",
    "print(first_name, last_name, country, age, is_married)\n",
    "print('First name:', first_name)\n",
    "print('Last name: ', last_name)\n",
    "print('Country: ', country)\n",
    "print('Age: ', age)\n",
    "print('Married: ', is_married)"
   ]
  },
  {
   "cell_type": "markdown",
   "metadata": {},
   "source": [
    "## Casting Data Types"
   ]
  },
  {
   "cell_type": "markdown",
   "metadata": {},
   "source": [
    "Casting: Converting one data type to another data type. We use `int()`, `float()`, `str()`, `list`, `set`. "
   ]
  },
  {
   "cell_type": "code",
   "execution_count": 5,
   "metadata": {},
   "outputs": [
    {
     "name": "stdout",
     "output_type": "stream",
     "text": [
      "num_int 10\n",
      "num_float: 10.0\n",
      "9\n",
      "10\n",
      "10\n",
      "num_int 10\n",
      "num_float 10.6\n",
      "Robert\n",
      "['R', 'o', 'b', 'e', 'r', 't']\n"
     ]
    }
   ],
   "source": [
    "# int to float\n",
    "num_int = 10\n",
    "print('num_int',num_int)         # 10\n",
    "num_float = float(num_int)\n",
    "print('num_float:', num_float)   # 10.0\n",
    "\n",
    "# float to int\n",
    "gravity = 9.81\n",
    "print(int(gravity))             # 9\n",
    "\n",
    "# int to str\n",
    "num_int = 10\n",
    "print(num_int)                  # 10\n",
    "num_str = str(num_int)\n",
    "print(num_str)                  # '10'\n",
    "\n",
    "# str to int or float\n",
    "num_str = '10.6'\n",
    "print('num_int', int(float(num_str)))      # 10\n",
    "print('num_float', float(num_str))  # 10.6\n",
    "\n",
    "# str to list\n",
    "first_name = 'Robert'\n",
    "print(first_name)               # 'Robert'\n",
    "first_name_to_list = list(first_name)\n",
    "print(first_name_to_list)   "
   ]
  }
 ],
 "metadata": {
  "kernelspec": {
   "display_name": "Python 3",
   "language": "python",
   "name": "python3"
  },
  "language_info": {
   "codemirror_mode": {
    "name": "ipython",
    "version": 3
   },
   "file_extension": ".py",
   "mimetype": "text/x-python",
   "name": "python",
   "nbconvert_exporter": "python",
   "pygments_lexer": "ipython3",
   "version": "3.12.4"
  }
 },
 "nbformat": 4,
 "nbformat_minor": 2
}
