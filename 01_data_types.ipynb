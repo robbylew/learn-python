{
 "cells": [
  {
   "cell_type": "markdown",
   "metadata": {},
   "source": [
    "<div align=\"center\">\n",
    "  <h1> Python by Topic - Variables</h1>\n",
    "  <a class=\"header-badge\" target=\"_blank\" href=\"https://www.linkedin.com/in/robbylew/\">\n",
    "  <img src=\"https://img.shields.io/badge/style--5eba00.svg?label=LinkedIn&logo=linkedin&style=social\">\n",
    "  </a>\n",
    "  <a class=\"header-badge\" target=\"_blank\" href=\"https://twitter.com/roberthedev\">\n",
    "  <img alt=\"Twitter Follow\" src=\"https://img.shields.io/twitter/follow/roberthedev?style=social\">\n",
    "  </a>\n",
    "\n",
    "<sub>Author:\n",
    "<a href=\"https://www.linkedin.com/in/robbylew/\" target=\"_blank\">Robert Lewis</a><br>\n",
    "<small> First Edition: August, 2024</small>\n",
    "</sub>\n",
    "</div>\n",
    "\n",
    "[<< Previous](../readme.md) | [Next >>](../02_variables.ipynb)\n"
   ]
  },
  {
   "cell_type": "markdown",
   "metadata": {},
   "source": [
    "# Table of Contents\n",
    "\n",
    "- [Data Types](#data-types)\n",
    "  - [Integer or Int](#integer-or-int)\n",
    "  - [Float](#float)\n",
    "  - [String](#string)\n",
    "  - [Booleans](#booleans)\n",
    "  - [List](#list)\n",
    "  - [Dictionary or Dict](#dictionary-or-dict)\n",
    "  - [Tuple](#tuple)\n",
    "  - [Set](#set)\n",
    "  - [Checking Data Types](#checking-data-types)"
   ]
  },
  {
   "cell_type": "markdown",
   "metadata": {},
   "source": [
    "# Data Types"
   ]
  },
  {
   "cell_type": "markdown",
   "metadata": {},
   "source": [
    "There are several data types in Python. We will go over them extremely briefly today, and will dive into them in great detail later on."
   ]
  },
  {
   "cell_type": "markdown",
   "metadata": {},
   "source": [
    "## Integer or Int\n",
    "\n",
    "A whole number, or zero."
   ]
  },
  {
   "cell_type": "code",
   "execution_count": null,
   "metadata": {},
   "outputs": [],
   "source": [
    "-3, -2, -1, 0, 1, 2, 3"
   ]
  },
  {
   "cell_type": "markdown",
   "metadata": {},
   "source": [
    "## Float\n",
    "\n",
    "A decimal number."
   ]
  },
  {
   "cell_type": "code",
   "execution_count": null,
   "metadata": {},
   "outputs": [],
   "source": [
    "3.14, 2.71828, -1.61803"
   ]
  },
  {
   "cell_type": "markdown",
   "metadata": {},
   "source": [
    "## String\n",
    "\n",
    "A collection of one or more characters under a single or double quote."
   ]
  },
  {
   "cell_type": "code",
   "execution_count": null,
   "metadata": {
    "vscode": {
     "languageId": "plaintext"
    }
   },
   "outputs": [],
   "source": [
    "'Robert', 'Lewis', '50'"
   ]
  },
  {
   "cell_type": "markdown",
   "metadata": {},
   "source": [
    "Strings can also span multiple lines with a triple quote"
   ]
  },
  {
   "cell_type": "code",
   "execution_count": null,
   "metadata": {},
   "outputs": [],
   "source": [
    "'''\n",
    "All of the characters in here\n",
    "are strings\n",
    "1031\n",
    "'''"
   ]
  },
  {
   "cell_type": "markdown",
   "metadata": {},
   "source": [
    "## Booleans"
   ]
  },
  {
   "cell_type": "markdown",
   "metadata": {},
   "source": [
    "Similar to 1's and 0's, Booleans can only be one of two values: `True` or `False`"
   ]
  },
  {
   "cell_type": "code",
   "execution_count": null,
   "metadata": {},
   "outputs": [],
   "source": [
    "True  #  1 in computer language\n",
    "False # 0 in computer language"
   ]
  },
  {
   "cell_type": "markdown",
   "metadata": {},
   "source": [
    "## List\n",
    "An ordered collection which allows to store different data type items. "
   ]
  },
  {
   "cell_type": "code",
   "execution_count": null,
   "metadata": {},
   "outputs": [],
   "source": [
    "[0, 1, 2, 3, 4, 5] # all are the same data types - a list of numbers\n",
    "['Banana', 'Orange', 'Mango', 'Avocado'] # all the same data type - a list of strings\n",
    "['Banana', 10, False, 9.81] # different data types in the list - string, int, boolean, float"
   ]
  },
  {
   "cell_type": "markdown",
   "metadata": {},
   "source": [
    "## Dictionary or Dict\n",
    "An unordered collection of data in a key value pair format.\n"
   ]
  },
  {
   "cell_type": "code",
   "execution_count": null,
   "metadata": {},
   "outputs": [],
   "source": [
    "{\n",
    "  'first_name': 'Robert',\n",
    "  'last_name': 'Lewis',\n",
    "  'country': 'United States',\n",
    "  'age': 250,\n",
    "  'is_married': False,\n",
    "  'skills': ['Python', 'R']\n",
    "}"
   ]
  },
  {
   "cell_type": "markdown",
   "metadata": {},
   "source": [
    "## Tuple\n",
    "\n",
    "An ordered collection of different data types, like a list, but tuples cannot be modified once they are created. They are immutable."
   ]
  },
  {
   "cell_type": "code",
   "execution_count": null,
   "metadata": {},
   "outputs": [],
   "source": [
    "('Robert', 'Lewis', 'Brook', 'Adam', 'James') # Names"
   ]
  },
  {
   "cell_type": "markdown",
   "metadata": {},
   "source": [
    "## Set\n",
    "\n",
    "A collection of data types, similar to a list and a tuple, but unlike the two is an unordered collection of items. Like in Mathematics, set in Python only stores unique items\n"
   ]
  },
  {
   "cell_type": "code",
   "execution_count": null,
   "metadata": {},
   "outputs": [],
   "source": [
    "{2, 4, 3, 5}\n",
    "{3.14, 9.81, 2.7} # order is not important in set"
   ]
  },
  {
   "cell_type": "markdown",
   "metadata": {},
   "source": [
    "\n",
    "## Checking Data Types\n"
   ]
  },
  {
   "cell_type": "code",
   "execution_count": null,
   "metadata": {},
   "outputs": [],
   "source": [
    "\n",
    "print(type(10))          # Int\n",
    "print(type(3.14))        # Float\n",
    "print(type(1 + 3j))      # Complex number\n",
    "print(type('Robert'))  # String\n",
    "print(type([1, 2, 3]))   # List\n",
    "print(type({'name':'Robert'})) # Dictionary\n",
    "print(type({9.8, 3.14, 2.7}))    # Set\n",
    "print(type((9.8, 3.14, 2.7)))    # Tuple"
   ]
  }
 ],
 "metadata": {
  "kernelspec": {
   "display_name": "Python 3",
   "language": "python",
   "name": "python3"
  },
  "language_info": {
   "codemirror_mode": {
    "name": "ipython",
    "version": 3
   },
   "file_extension": ".py",
   "mimetype": "text/x-python",
   "name": "python",
   "nbconvert_exporter": "python",
   "pygments_lexer": "ipython3",
   "version": "3.12.4"
  }
 },
 "nbformat": 4,
 "nbformat_minor": 2
}
