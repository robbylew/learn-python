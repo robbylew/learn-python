{
 "cells": [
  {
   "cell_type": "markdown",
   "metadata": {},
   "source": [
    "# Functions\n",
    "\n",
    "So far we have seen many built-in Python functions. In this section, we will focus on custom functions. What is a function? Before we start making functions, let us learn what a function is and why we need them?\n",
    "\n",
    "## Defining a Function\n",
    "\n",
    "A function is a reusable block of code or programming statements designed to perform a certain task. To define or declare a function, Python provides the `def` keyword. The following is the syntax for defining a function. The function block of code is executed only if the function is called or invoked.\n",
    "\n",
    "### Declaring and Calling a Function\n",
    "\n",
    "When we make a function, we call it declaring a function. When we start using the it, we call it calling or invoking a function. Function can be declared with or without parameters."
   ]
  },
  {
   "cell_type": "markdown",
   "metadata": {
    "vscode": {
     "languageId": "plaintext"
    }
   },
   "source": [
    "```python\n",
    "# Declaring a function\n",
    "def function_name():\n",
    "    code\n",
    "    \n",
    "# Calling a function\n",
    "function_name()\n",
    "```"
   ]
  },
  {
   "cell_type": "markdown",
   "metadata": {},
   "source": [
    "### Function with Default Parameters\n",
    "\n",
    "Sometimes we pass default values to parameters, when we invoke the function. If we do not pass arguments when calling the function, their default values will be used.\n"
   ]
  },
  {
   "cell_type": "markdown",
   "metadata": {
    "vscode": {
     "languageId": "plaintext"
    }
   },
   "source": [
    "```python\n",
    "# Declaring a function\n",
    "def function_name(param = value):\n",
    "    code\n",
    "        \n",
    "# Calling function\n",
    "function_name()\n",
    "function_name(arg)\n",
    "```"
   ]
  },
  {
   "cell_type": "markdown",
   "metadata": {},
   "source": [
    "### Function with Arbitrary Number of Arguments\n",
    "\n",
    "If we do not know the number of arguments we pass to our function, we can create a function which can take arbitrary number of arguments by adding `*` before the parameter name."
   ]
  },
  {
   "cell_type": "markdown",
   "metadata": {
    "vscode": {
     "languageId": "plaintext"
    }
   },
   "source": [
    "```python\n",
    "# Declaring a function\n",
    "def function_name(*args):\n",
    "    code\n",
    "    \n",
    "# Calling function\n",
    "function_name(param1, param2, param3,..)\n",
    "```"
   ]
  }
 ],
 "metadata": {
  "language_info": {
   "name": "python"
  }
 },
 "nbformat": 4,
 "nbformat_minor": 2
}
