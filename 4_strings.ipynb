{
 "cells": [
  {
   "cell_type": "markdown",
   "metadata": {},
   "source": [
    "# Strings\n",
    "\n",
    "Okay lets dive into Strings. They may seem simple at first but theres quite a bit to them.\n",
    "\n",
    "As said before, a string is a data type. Any data type written as text is a string. Also any data under a single, double, or triple quotes are strings.\n",
    "\n",
    "**NOTE**: We can use the built-in function `len()` to check the length of a string."
   ]
  },
  {
   "cell_type": "markdown",
   "metadata": {},
   "source": [
    "## Creating a String"
   ]
  },
  {
   "cell_type": "code",
   "execution_count": 1,
   "metadata": {},
   "outputs": [
    {
     "name": "stdout",
     "output_type": "stream",
     "text": [
      "P\n",
      "1\n",
      "Hello, World\n",
      "12\n",
      "Strings are brilliant!\n"
     ]
    }
   ],
   "source": [
    "letter = 'P'\n",
    "print(letter)\n",
    "print(len(letter)) \n",
    "greeting = \"Hello, World\"\n",
    "print(greeting)\n",
    "print(len(greeting))\n",
    "sentence = \"Strings are brilliant!\"\n",
    "print(sentence)"
   ]
  },
  {
   "cell_type": "markdown",
   "metadata": {},
   "source": [
    "Multiline strings are created by the use of `'''` triple single or `\"\"\"` triple double quotes."
   ]
  },
  {
   "cell_type": "code",
   "execution_count": 3,
   "metadata": {},
   "outputs": [
    {
     "name": "stdout",
     "output_type": "stream",
     "text": [
      "I am a multi\n",
      "line string that is made from\n",
      "triple single quotes \n",
      "\n",
      "\n",
      "I also am a\n",
      "multi line string except I am made from \n",
      "double quotes!\n"
     ]
    }
   ],
   "source": [
    "multiline_string_single = '''I am a multi\n",
    "line string that is made from\n",
    "triple single quotes '''\n",
    "\n",
    "print(multiline_string_single)\n",
    "\n",
    "print(\"\\n\") # Go to next line, so they arent on top of eachother\n",
    "\n",
    "multiline_string_double = \"\"\"I also am a\n",
    "multi line string except I am made from \n",
    "double quotes!\"\"\"\n",
    "print(multiline_string_double)"
   ]
  },
  {
   "cell_type": "markdown",
   "metadata": {},
   "source": [
    "## String Concatenation"
   ]
  },
  {
   "cell_type": "markdown",
   "metadata": {},
   "source": [
    "Python allows you to combine strings. You could also call it merging, combining, connecting, whatever you prefer but all of these fall under the term concatenation."
   ]
  },
  {
   "cell_type": "code",
   "execution_count": 5,
   "metadata": {},
   "outputs": [
    {
     "name": "stdout",
     "output_type": "stream",
     "text": [
      "Robert Lewis\n",
      "6\n",
      "5\n",
      "True\n",
      "12\n"
     ]
    }
   ],
   "source": [
    "first_name = 'Robert'\n",
    "last_name = 'Lewis'\n",
    "space = ' '\n",
    "full_name = first_name  +  space + last_name\n",
    "print(full_name) # Asabeneh Yetayeh\n",
    "# Checking the length of a string using len() built-in function\n",
    "print(len(first_name))  # 6\n",
    "print(len(last_name))   # 5\n",
    "print(len(first_name) > len(last_name)) # True\n",
    "print(len(full_name)) # 12"
   ]
  },
  {
   "cell_type": "markdown",
   "metadata": {},
   "source": [
    "## Escape Sequences in Strings"
   ]
  },
  {
   "cell_type": "markdown",
   "metadata": {},
   "source": [
    "If you saw earlier I sneakily used the `\\n` sequence, also known as an escape sequence, which is one of the several useful escape sequences:\n",
    "\n",
    "+ `\\n`: New line\n",
    "    \n",
    "+ `\\t`: Tab means(8 spaces)\n",
    "\n",
    "+ `\\\\`: Back slash\n",
    "\n",
    "+ `\\'`: Single quote (')\n",
    "\n",
    "+ `\\\"`: Double quote (\")\n"
   ]
  },
  {
   "cell_type": "code",
   "execution_count": 7,
   "metadata": {},
   "outputs": [
    {
     "name": "stdout",
     "output_type": "stream",
     "text": [
      "You best be enjoying this awesome python tutorial!\n",
      "Days\tTopics\tBrain Growth\n",
      "Day 1\t1\t1\n",
      "Day 2\t2\t2\n",
      "Day 3\t3\t3\n",
      "Day 4\t1\t4\n",
      "This is a backslash  symbol (\\)\n",
      "In every programming language it starts with \"Hello, World!\"\n"
     ]
    }
   ],
   "source": [
    "print('You best be enjoying this awesome python tutorial!') # line break\n",
    "print('Days\\tTopics\\tBrain Growth') # adding tab space or 4 spaces \n",
    "print('Day 1\\t1\\t1')\n",
    "print('Day 2\\t2\\t2')\n",
    "print('Day 3\\t3\\t3')\n",
    "print('Day 4\\t1\\t4')\n",
    "print('This is a backslash  symbol (\\\\)') # To write a backslash\n",
    "print('In every programming language it starts with \\\"Hello, World!\\\"') # to write a double quote inside a single quote"
   ]
  },
  {
   "cell_type": "markdown",
   "metadata": {},
   "source": [
    "## String formatting"
   ]
  },
  {
   "cell_type": "markdown",
   "metadata": {},
   "source": [
    "There are several ways of approaching this, the old way, the new way, and the newer way. lets start with the old ways."
   ]
  },
  {
   "cell_type": "markdown",
   "metadata": {},
   "source": [
    "### Old Style String Formatting (`%` Operator)"
   ]
  },
  {
   "cell_type": "markdown",
   "metadata": {},
   "source": [
    "The `%` operator is used to format a set of variables enclosed in a tuple (remember from lesson 1, a fixed size list), together with a format string, which contains normal text together with \"argument specifiers\", special symbols like \"%s\", \"%d\", \"%f\", \"%.number of digitsf\".\n",
    "\n",
    "+ `%s` - String (or any object with a string representation, like numbers)\n",
    "\n",
    "+ `%d` - Integers\n",
    "\n",
    "+ `%f` - Floating point numbers\n",
    "\n",
    "+ `\"%.number of digitsf\" `- Floating point numbers with fixed precision"
   ]
  },
  {
   "cell_type": "code",
   "execution_count": 9,
   "metadata": {},
   "outputs": [
    {
     "name": "stdout",
     "output_type": "stream",
     "text": [
      "I am Robert Lewis. I teach Python\n",
      "The area of circle with a radius 10 is 314.00.\n",
      "The following are python libraries:['Django', 'Flask', 'NumPy', 'Matplotlib', 'Pandas']\n"
     ]
    }
   ],
   "source": [
    "# Strings only\n",
    "first_name = 'Robert'\n",
    "last_name = 'Lewis'\n",
    "language = 'Python'\n",
    "formated_string = 'I am %s %s. I teach %s' %(first_name, last_name, language)\n",
    "print(formated_string)\n",
    "\n",
    "# Strings  and numbers\n",
    "radius = 10\n",
    "pi = 3.14\n",
    "area = pi * radius ** 2\n",
    "formated_string = 'The area of circle with a radius %d is %.2f.' %(radius, area) # 2 refers the 2 significant digits after the point\n",
    "print(formated_string)\n",
    "\n",
    "python_libraries = ['Django', 'Flask', 'NumPy', 'Matplotlib','Pandas']\n",
    "formated_string = 'The following are python libraries:%s' % (python_libraries)\n",
    "print(formated_string) # \"The following are python libraries:['Django', 'Flask', 'NumPy', 'Matplotlib','Pandas']\""
   ]
  },
  {
   "cell_type": "markdown",
   "metadata": {},
   "source": [
    "### New Style String Formatting (str.format)"
   ]
  },
  {
   "cell_type": "markdown",
   "metadata": {},
   "source": [
    "This formatting is introduced in Python version 3."
   ]
  },
  {
   "cell_type": "code",
   "execution_count": 10,
   "metadata": {},
   "outputs": [
    {
     "name": "stdout",
     "output_type": "stream",
     "text": [
      "I am Robert Lewis. I teach Python\n",
      "4 + 3 = 7\n",
      "4 - 3 = 1\n",
      "4 * 3 = 12\n",
      "4 / 3 = 1.33\n",
      "4 % 3 = 1\n",
      "4 // 3 = 1\n",
      "4 ** 3 = 64\n",
      "The area of a circle with a radius 10 is 314.00.\n"
     ]
    }
   ],
   "source": [
    "\n",
    "first_name = 'Robert'\n",
    "last_name = 'Lewis'\n",
    "language = 'Python'\n",
    "formated_string = 'I am {} {}. I teach {}'.format(first_name, last_name, language)\n",
    "print(formated_string)\n",
    "a = 4\n",
    "b = 3\n",
    "\n",
    "print('{} + {} = {}'.format(a, b, a + b))\n",
    "print('{} - {} = {}'.format(a, b, a - b))\n",
    "print('{} * {} = {}'.format(a, b, a * b))\n",
    "print('{} / {} = {:.2f}'.format(a, b, a / b)) # limits it to two digits after decimal\n",
    "print('{} % {} = {}'.format(a, b, a % b))\n",
    "print('{} // {} = {}'.format(a, b, a // b))\n",
    "print('{} ** {} = {}'.format(a, b, a ** b))\n",
    "\n",
    "# Strings  and numbers\n",
    "radius = 10\n",
    "pi = 3.14\n",
    "area = pi * radius ** 2\n",
    "formated_string = 'The area of a circle with a radius {} is {:.2f}.'.format(radius, area) # 2 digits after decimal\n",
    "print(formated_string)"
   ]
  },
  {
   "cell_type": "markdown",
   "metadata": {},
   "source": [
    "### Newer Style String Interpolation / f-Strings"
   ]
  },
  {
   "cell_type": "markdown",
   "metadata": {},
   "source": [
    "With Python 3.6 came f-strings. Strings start with f and we can inject the data in their corresponding positions."
   ]
  },
  {
   "cell_type": "code",
   "execution_count": 1,
   "metadata": {},
   "outputs": [
    {
     "name": "stdout",
     "output_type": "stream",
     "text": [
      "4 + 3 = 7\n",
      "4 - 3 = 1\n",
      "4 * 3 = 12\n",
      "4 / 3 = 1.33\n",
      "4 % 3 = 1\n",
      "4 // 3 = 1\n",
      "4 ** 3 = 64\n"
     ]
    }
   ],
   "source": [
    "a = 4\n",
    "b = 3\n",
    "print(f'{a} + {b} = {a +b}')\n",
    "print(f'{a} - {b} = {a - b}')\n",
    "print(f'{a} * {b} = {a * b}')\n",
    "print(f'{a} / {b} = {a / b:.2f}')\n",
    "print(f'{a} % {b} = {a % b}')\n",
    "print(f'{a} // {b} = {a // b}')\n",
    "print(f'{a} ** {b} = {a ** b}')"
   ]
  },
  {
   "cell_type": "markdown",
   "metadata": {},
   "source": [
    "## Python Strings as Sequences of Characters"
   ]
  },
  {
   "cell_type": "markdown",
   "metadata": {},
   "source": [
    "### Unpacking Characters"
   ]
  },
  {
   "cell_type": "code",
   "execution_count": 12,
   "metadata": {},
   "outputs": [
    {
     "name": "stdout",
     "output_type": "stream",
     "text": [
      "P\n",
      "y\n",
      "t\n",
      "h\n",
      "o\n",
      "n\n"
     ]
    }
   ],
   "source": [
    "language = 'Python'\n",
    "a,b,c,d,e,f = language # unpacking sequence characters into variables\n",
    "print(a) # P\n",
    "print(b) # y\n",
    "print(c) # t\n",
    "print(d) # h\n",
    "print(e) # o\n",
    "print(f) # n"
   ]
  },
  {
   "cell_type": "markdown",
   "metadata": {},
   "source": [
    "### Accessing Characters in Strings by Index"
   ]
  },
  {
   "cell_type": "markdown",
   "metadata": {},
   "source": [
    "In Python, and usually in programming in general, counting starts at zero."
   ]
  },
  {
   "attachments": {
    "string_index.png": {
     "image/png": "[encoded data removed]"
    }
   },
   "cell_type": "markdown",
   "metadata": {},
   "source": [
    "![string_index.png](attachment:string_index.png)"
   ]
  },
  {
   "cell_type": "code",
   "execution_count": 13,
   "metadata": {},
   "outputs": [
    {
     "name": "stdout",
     "output_type": "stream",
     "text": [
      "P\n",
      "y\n",
      "n\n"
     ]
    }
   ],
   "source": [
    "language = 'Python'\n",
    "first_letter = language[0]\n",
    "print(first_letter) # P\n",
    "second_letter = language[1]\n",
    "print(second_letter) # y\n",
    "last_index = len(language) - 1\n",
    "last_letter = language[last_index]\n",
    "print(last_letter) # n"
   ]
  },
  {
   "cell_type": "markdown",
   "metadata": {},
   "source": [
    "If we want to start from right end we can use negative indexing. -1 is the last index."
   ]
  },
  {
   "cell_type": "code",
   "execution_count": 14,
   "metadata": {},
   "outputs": [
    {
     "name": "stdout",
     "output_type": "stream",
     "text": [
      "n\n",
      "o\n"
     ]
    }
   ],
   "source": [
    "language = 'Python'\n",
    "last_letter = language[-1]\n",
    "print(last_letter) # n\n",
    "second_last = language[-2]\n",
    "print(second_last) # o"
   ]
  },
  {
   "cell_type": "markdown",
   "metadata": {},
   "source": [
    "### Slicing Python Strings"
   ]
  },
  {
   "cell_type": "markdown",
   "metadata": {},
   "source": [
    "The general Syntax is as follows, considering `arr` is a string:\n",
    "\n",
    "+ `arr[start:stop]`         # items start through stop-1\n",
    "\n",
    "+ `arr[start:]`            # items start through the rest of the array\n",
    "\n",
    "+ `arr[:stop]`              # items from the beginning through stop-1\n",
    "\n",
    "+ `arr[:]`                  # a copy of the whole array\n",
    "\n",
    "+ `arr[start:stop:step]`    # start through not past stop, by step"
   ]
  },
  {
   "cell_type": "markdown",
   "metadata": {},
   "source": [
    "You can slice strings into substrings."
   ]
  },
  {
   "cell_type": "code",
   "execution_count": 2,
   "metadata": {},
   "outputs": [
    {
     "name": "stdout",
     "output_type": "stream",
     "text": [
      "Pyt\n",
      "hon\n",
      "hon\n",
      "hon\n"
     ]
    }
   ],
   "source": [
    "language = 'Python'\n",
    "first_three = language[0:3] # starts at zero index and up to 3 but not include 3\n",
    "print(first_three) #Pyt\n",
    "last_three = language[3:6]\n",
    "print(last_three) # hon\n",
    "# Another way\n",
    "last_three = language[-3:]\n",
    "print(last_three)   # hon\n",
    "last_three = language[3:]\n",
    "print(last_three)   # hon"
   ]
  },
  {
   "cell_type": "markdown",
   "metadata": {},
   "source": [
    "### Reversing a String"
   ]
  },
  {
   "cell_type": "markdown",
   "metadata": {},
   "source": [
    "Its relatively easy to reverse a string in Python."
   ]
  },
  {
   "cell_type": "code",
   "execution_count": 5,
   "metadata": {},
   "outputs": [
    {
     "name": "stdout",
     "output_type": "stream",
     "text": [
      "nohtyP\n"
     ]
    }
   ],
   "source": [
    "language = 'Python'\n",
    "print(language[::-1])"
   ]
  },
  {
   "cell_type": "markdown",
   "metadata": {},
   "source": [
    "### Skipping characters while slicing."
   ]
  },
  {
   "cell_type": "markdown",
   "metadata": {},
   "source": [
    "Adding the step argument `[::x]` to the slice method allows you to, as defined, step."
   ]
  },
  {
   "cell_type": "code",
   "execution_count": null,
   "metadata": {},
   "outputs": [],
   "source": [
    "language = 'Python'\n",
    "pto = language[0:6:2] #\n",
    "print(pto) # Pto"
   ]
  },
  {
   "cell_type": "markdown",
   "metadata": {},
   "source": [
    "## String Methods"
   ]
  },
  {
   "cell_type": "markdown",
   "metadata": {},
   "source": [
    "| Function | Description | Link |\n",
    "| :-: | :-: | :-: |\n",
    "| capitalize() | Converts the first character to upper case | <a href=\"https://www.w3schools.com/python/ref_string_capitalize.asp\">Link</a> |\n",
    "| casefold() | Converts string into lower case | <a href=\"https://www.w3schools.com/python/ref_string_casefold.asp\">Link</a> |\n",
    "| center() | Returns a centered string | <a href=\"https://www.w3schools.com/python/ref_string_center.asp\">Link</a> |\n",
    "| count() | Returns the number of times a specified value occurs in a string | <a href=\"https://www.w3schools.com/python/ref_string_count.asp\">Link</a> |\n",
    "| encode() | Returns an encoded version of the string | <a href=\"https://www.w3schools.com/python/ref_string_encode.asp\">Link</a> |\n",
    "| endswith() | Returns true if the string ends with the specified value | <a href=\"https://www.w3schools.com/python/ref_string_endswith.asp\">Link</a> |\n",
    "| expandtabs() | Sets the tab size of the string | <a href=\"https://www.w3schools.com/python/ref_string_expandtabs.asp\">Link</a> |\n",
    "| find() | Searches the string for a specified value and returns the position of where it was found | <a href=\"https://www.w3schools.com/python/ref_string_find.asp\">Link</a> |\n",
    "| format() | Formats specified values in a string | <a href=\"https://www.w3schools.com/python/ref_string_format.asp\">Link</a> |\n",
    "| format_map() | Formats specified values in a string | <a href=\"https://www.w3schools.com/python/ref_string_format_map.asp\">Link</a> |\n",
    "| index() | Searches the string for a specified value and returns the position of where it was found | <a href=\"https://www.w3schools.com/python/ref_string_index.asp\">Link</a> |\n",
    "| isalnum() | Returns True if all characters in the string are alphanumeric | <a href=\"https://www.w3schools.com/python/ref_string_isalnum.asp\">Link</a> |\n",
    "| isalpha() | Returns True if all characters in the string are in the alphabet | <a href=\"https://www.w3schools.com/python/ref_string_isalpha.asp\">Link</a> |\n",
    "| isascii() | Returns True if all characters in the string are ascii characters | <a href=\"https://www.w3schools.com/python/ref_string_isascii.asp\">Link</a> |\n",
    "| isdecimal() | Returns True if all characters in the string are decimals | <a href=\"https://www.w3schools.com/python/ref_string_isdecimal.asp\">Link</a> |\n",
    "| isdigit() | Returns True if all characters in the string are digits | <a href=\"https://www.w3schools.com/python/ref_string_isdigit.asp\">Link</a> |\n",
    "| isidentifier() | Returns True if the string is an identifier | <a href=\"https://www.w3schools.com/python/ref_string_isidentifier.asp\">Link</a> |\n",
    "| islower() | Returns True if all characters in the string are lower case | <a href=\"https://www.w3schools.com/python/ref_string_islower.asp\">Link</a> |\n",
    "| isnumeric() | Returns True if all characters in the string are numeric | <a href=\"https://www.w3schools.com/python/ref_string_isnumeric.asp\">Link</a> |\n",
    "| isprintable() | Returns True if all characters in the string are printable | <a href=\"https://www.w3schools.com/python/ref_string_isprintable.asp\">Link</a> |\n",
    "| isspace() | Returns True if all characters in the string are whitespaces | <a href=\"https://www.w3schools.com/python/ref_string_isspace.asp\">Link</a> |\n",
    "| istitle() | Returns True if the string follows the rules of a title | <a href=\"https://www.w3schools.com/python/ref_string_istitle.asp\">Link</a> |\n",
    "| isupper() | Returns True if all characters in the string are upper case | <a href=\"https://www.w3schools.com/python/ref_string_isupper.asp\">Link</a> |\n",
    "| join() | Converts the elements of an iterable into a string | <a href=\"https://www.w3schools.com/python/ref_string_join.asp\">Link</a> |\n",
    "| ljust() | Returns a left justified version of the string | <a href=\"https://www.w3schools.com/python/ref_string_ljust.asp\">Link</a> |\n",
    "| lower() | Converts a string into lower case | <a href=\"https://www.w3schools.com/python/ref_string_lower.asp\">Link</a> |\n",
    "| lstrip() | Returns a left trim version of the string | <a href=\"https://www.w3schools.com/python/ref_string_lstrip.asp\">Link</a> |\n",
    "| maketrans() | Returns a translation table to be used in translations | <a href=\"https://www.w3schools.com/python/ref_string_maketrans.asp\">Link</a> |\n",
    "| partition() | Returns a tuple where the string is parted into three parts | <a href=\"https://www.w3schools.com/python/ref_string_partition.asp\">Link</a> |\n",
    "| replace() | Returns a string where a specified value is replaced with a specified value | <a href=\"https://www.w3schools.com/python/ref_string_replace.asp\">Link</a> |\n",
    "| rfind() | Searches the string for a specified value and returns the last position of where it was found | <a href=\"https://www.w3schools.com/python/ref_string_rfind.asp\">Link</a> |\n",
    "| rindex() | Searches the string for a specified value and returns the last position of where it was found | <a href=\"https://www.w3schools.com/python/ref_string_rindex.asp\">Link</a> |\n",
    "| rjust() | Returns a right justified version of the string | <a href=\"https://www.w3schools.com/python/ref_string_rjust.asp\">Link</a> |\n",
    "| rpartition() | Returns a tuple where the string is parted into three parts | <a href=\"https://www.w3schools.com/python/ref_string_rpartition.asp\">Link</a> |\n",
    "| rsplit() | Splits the string at the specified separator, and returns a list | <a href=\"https://www.w3schools.com/python/ref_string_rsplit.asp\">Link</a> |\n",
    "| rstrip() | Returns a right trim version of the string | <a href=\"https://www.w3schools.com/python/ref_string_rstrip.asp\">Link</a> |\n",
    "| split() | Splits the string at the specified separator, and returns a list | <a href=\"https://www.w3schools.com/python/ref_string_split.asp\">Link</a> |\n",
    "| splitlines() | Splits the string at line breaks and returns a list | <a href=\"https://www.w3schools.com/python/ref_string_splitlines.asp\">Link</a> |\n",
    "| startswith() | Returns true if the string starts with the specified value | <a href=\"https://www.w3schools.com/python/ref_string_startswith.asp\">Link</a> |\n",
    "| strip() | Returns a trimmed version of the string | <a href=\"https://www.w3schools.com/python/ref_string_strip.asp\">Link</a> |\n",
    "| swapcase() | Swaps cases, lower case becomes upper case and vice versa | <a href=\"https://www.w3schools.com/python/ref_string_swapcase.asp\">Link</a> |\n",
    "| title() | Converts the first character of each word to upper case | <a href=\"https://www.w3schools.com/python/ref_string_title.asp\">Link</a> |\n",
    "| translate() | Returns a translated string | <a href=\"https://www.w3schools.com/python/ref_string_translate.asp\">Link</a> |\n",
    "| upper() | Converts a string into upper case | <a href=\"https://www.w3schools.com/python/ref_string_upper.asp\">Link</a> |\n",
    "| zfill() | Fills the string with a specified number of 0 values at the beginning | <a href=\"https://www.w3schools.com/python/ref_string_zfill.asp\">Link</a> |\n"
   ]
  }
 ],
 "metadata": {
  "kernelspec": {
   "display_name": "Python 3",
   "language": "python",
   "name": "python3"
  },
  "language_info": {
   "codemirror_mode": {
    "name": "ipython",
    "version": 3
   },
   "file_extension": ".py",
   "mimetype": "text/x-python",
   "name": "python",
   "nbconvert_exporter": "python",
   "pygments_lexer": "ipython3",
   "version": "3.12.4"
  }
 },
 "nbformat": 4,
 "nbformat_minor": 2
}
