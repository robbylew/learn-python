{
 "cells": [
  {
   "cell_type": "markdown",
   "metadata": {},
   "source": [
    "# Dictionaries\n",
    "\n",
    "A dicitonary is an unordered, mutable paired (key: value) data type"
   ]
  },
  {
   "cell_type": "markdown",
   "metadata": {},
   "source": [
    "### Creating a Dictionary\n",
    "\n",
    "You can create a dictioanry using the built-in `dict()` function or with squiggly brackets `{}`"
   ]
  },
  {
   "cell_type": "code",
   "execution_count": 8,
   "metadata": {},
   "outputs": [],
   "source": [
    "empty_dict = dict()\n",
    "my_dict = {\n",
    "  'first_name': 'Robert',\n",
    "  'last_name': 'Lewis',\n",
    "  'country': 'United States',\n",
    "  'is_married': False,\n",
    "  'skills': ['Python', 'Javascript', 'R'],\n",
    "  'age': 230\n",
    "}"
   ]
  },
  {
   "cell_type": "markdown",
   "metadata": {},
   "source": [
    "### Accessing Dicitonary Items"
   ]
  },
  {
   "cell_type": "markdown",
   "metadata": {},
   "source": [
    "You can access Dictionary items by referring to its key name"
   ]
  },
  {
   "cell_type": "code",
   "execution_count": 2,
   "metadata": {},
   "outputs": [
    {
     "name": "stdout",
     "output_type": "stream",
     "text": [
      "Robert\n"
     ]
    }
   ],
   "source": [
    "print(my_dict['first_name'])"
   ]
  },
  {
   "cell_type": "markdown",
   "metadata": {},
   "source": [
    "We will raise an error if the key doesn't exist"
   ]
  },
  {
   "cell_type": "code",
   "execution_count": 3,
   "metadata": {},
   "outputs": [
    {
     "ename": "KeyError",
     "evalue": "'date'",
     "output_type": "error",
     "traceback": [
      "\u001b[0;31m---------------------------------------------------------------------------\u001b[0m",
      "\u001b[0;31mKeyError\u001b[0m                                  Traceback (most recent call last)",
      "Cell \u001b[0;32mIn[3], line 1\u001b[0m\n\u001b[0;32m----> 1\u001b[0m \u001b[38;5;28mprint\u001b[39m(\u001b[43mmy_dict\u001b[49m\u001b[43m[\u001b[49m\u001b[38;5;124;43m'\u001b[39;49m\u001b[38;5;124;43mdate\u001b[39;49m\u001b[38;5;124;43m'\u001b[39;49m\u001b[43m]\u001b[49m)\n",
      "\u001b[0;31mKeyError\u001b[0m: 'date'"
     ]
    }
   ],
   "source": [
    "print(my_dict['date'])"
   ]
  },
  {
   "cell_type": "markdown",
   "metadata": {},
   "source": [
    "So we can use the `get()` method to avoid this error"
   ]
  },
  {
   "cell_type": "code",
   "execution_count": 6,
   "metadata": {},
   "outputs": [
    {
     "name": "stdout",
     "output_type": "stream",
     "text": [
      "None\n",
      "Robert\n"
     ]
    }
   ],
   "source": [
    "print(my_dict.get('date')) # None\n",
    "print(my_dict.get('first_name')) # Robert"
   ]
  },
  {
   "cell_type": "markdown",
   "metadata": {},
   "source": [
    "### Adding Items to a Dictionary"
   ]
  },
  {
   "cell_type": "markdown",
   "metadata": {},
   "source": [
    "You can add key: value pairs to a dictionary"
   ]
  },
  {
   "cell_type": "code",
   "execution_count": 9,
   "metadata": {},
   "outputs": [
    {
     "name": "stdout",
     "output_type": "stream",
     "text": [
      "Hannah\n",
      "['Python', 'Javascript', 'R', 'Django']\n"
     ]
    }
   ],
   "source": [
    "my_dict['dogs_name'] = 'Hannah'\n",
    "my_dict['skills'].append('Django')\n",
    "print(my_dict.get('dogs_name'))\n",
    "print(my_dict.get('skills'))"
   ]
  },
  {
   "cell_type": "markdown",
   "metadata": {},
   "source": [
    "### Other useful Methods"
   ]
  },
  {
   "cell_type": "markdown",
   "metadata": {},
   "source": [
    "| Method | Description |\n",
    "| --- | --- |\n",
    "| <a href=\"https://www.w3schools.com/python/ref_dictionary_clear.asp\">`clear()`</a> | Removes all the elements from the dictionary |\n",
    "| <a href=\"https://www.w3schools.com/python/ref_dictionary_copy.asp\">`copy()`</a> | Returns a copy of the dictionary |\n",
    "| <a href=\"https://www.w3schools.com/python/ref_dictionary_fromkeys.asp\">`fromkeys()`</a> | Returns a dictionary with the specified keys and value |\n",
    "| <a href=\"https://www.w3schools.com/python/ref_dictionary_items.asp\">`items()`</a> | Returns a list containing a tuple for each key-value pair |\n",
    "| <a href=\"https://www.w3schools.com/python/ref_dictionary_keys.asp\">`keys()`</a> | Returns a list containing the dictionary's keys |\n",
    "| <a href=\"https://www.w3schools.com/python/ref_dictionary_pop.asp\">`pop()`</a> | Removes the element with the specified key |\n",
    "| <a href=\"https://www.w3schools.com/python/ref_dictionary_popitem.asp\">`popitem()`</a> | Removes the last inserted key-value pair |\n",
    "| <a href=\"https://www.w3schools.com/python/ref_dictionary_setdefault.asp\">`setdefault()`</a> | Returns the value of the specified key. If the key does not exist: insert the key, with the specified value |\n",
    "| <a href=\"https://www.w3schools.com/python/ref_dictionary_update.asp\">`update()`</a> | Updates the dictionary with the specified key-value pairs |\n",
    "| <a href=\"https://www.w3schools.com/python/ref_dictionary_values.asp\">`values()`</a> | Returns a list of all the values in the dictionary |\n"
   ]
  }
 ],
 "metadata": {
  "kernelspec": {
   "display_name": "Python 3",
   "language": "python",
   "name": "python3"
  },
  "language_info": {
   "codemirror_mode": {
    "name": "ipython",
    "version": 3
   },
   "file_extension": ".py",
   "mimetype": "text/x-python",
   "name": "python",
   "nbconvert_exporter": "python",
   "pygments_lexer": "ipython3",
   "version": "3.12.4"
  }
 },
 "nbformat": 4,
 "nbformat_minor": 2
}
