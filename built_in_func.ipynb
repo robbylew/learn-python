{
 "cells": [
  {
   "cell_type": "markdown",
   "metadata": {},
   "source": [
    "## Built-in Functions\n",
    "Python has a lot of built-in functions. They are globally avaialble for your use without the need ofimporting or configuring. Some of the most common are the following:\n",
    "\n",
    "`print()`, `len()`, `type()`, `int()`, `float()`, `str()`, `input()`, `list()`, `dict()`, `min()`, `max()`, `sum()`, `sorted()`, `open()`, `file()`, `help()`, and `dir()`\n",
    "\n",
    "![image.png](images/builtin-functions.png)"
   ]
  }
 ],
 "metadata": {
  "language_info": {
   "name": "python"
  }
 },
 "nbformat": 4,
 "nbformat_minor": 2
}
